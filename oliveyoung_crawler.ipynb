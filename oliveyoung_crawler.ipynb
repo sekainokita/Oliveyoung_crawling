{
 "cells": [
  {
   "cell_type": "markdown",
   "metadata": {},
   "source": [
    "# 올리브영 상품 크롤러\n",
    "이 노트북은 올리브영 상품 목록 및 상세정보(이미지, 제조국, 제조업자 등)를 크롤링합니다.\n",
    "- 크롤링할 카테고리(상품목록) 페이지의 URL을 직접 입력하세요.\n",
    "- 상품 목록, 상세정보, 결과 저장까지 단계별로 실행할 수 있습니다.\n",
    "- 카테고리에서 VIEW(24, 36, 48개씩 보기) 설정에 따라 개수에 맞춰 1페이지만 크롤링 합니다.\n",
    "- 기본 sleep값은 3 입니다. 필요시 줄일 수 있지만 봇 탐지에 적발 가능성이 높아집니다."
   ]
  },
  {
   "cell_type": "markdown",
   "metadata": {},
   "source": [
    "# 1. 라이브러리 임포트"
   ]
  },
  {
   "cell_type": "code",
   "execution_count": null,
   "metadata": {},
   "outputs": [],
   "source": [
    "import time\n",
    "import json\n",
    "import re\n",
    "from urllib.parse import urljoin\n",
    "from selenium import webdriver\n",
    "from selenium.webdriver.chrome.service import Service\n",
    "from selenium.webdriver.chrome.options import Options\n",
    "from selenium.webdriver.common.by import By\n",
    "from selenium.webdriver.support.ui import WebDriverWait\n",
    "from selenium.webdriver.support import expected_conditions as EC\n",
    "from webdriver_manager.chrome import ChromeDriverManager\n",
    "from bs4 import BeautifulSoup"
   ]
  },
  {
   "cell_type": "markdown",
   "metadata": {},
   "source": [
    "# 2. 크롬 드라이버 셋업 함수"
   ]
  },
  {
   "cell_type": "code",
   "execution_count": null,
   "metadata": {},
   "outputs": [],
   "source": [
    "def setup_driver():\n",
    "    chrome_options = Options()\n",
    "    chrome_options.add_argument('--headless')\n",
    "    chrome_options.add_argument('--no-sandbox')\n",
    "    chrome_options.add_argument('--disable-dev-shm-usage')\n",
    "    service = Service(ChromeDriverManager().install())\n",
    "    driver = webdriver.Chrome(service=service, options=chrome_options)\n",
    "    return driver"
   ]
  },
  {
   "cell_type": "markdown",
   "metadata": {},
   "source": [
    "# 3. URL 입력"
   ]
  },
  {
   "cell_type": "code",
   "execution_count": null,
   "metadata": {},
   "outputs": [],
   "source": [
    "base_url = input(\"크롤링할 올리브영 카테고리(상품목록) 페이지의 URL을 입력하세요:\\n예시: https://www.oliveyoung.co.kr/store/display/getMCategoryList.do?...\\n> \")"
   ]
  },
  {
   "cell_type": "markdown",
   "metadata": {},
   "source": [
    "# 4. 상품 목록 크롤링 함수"
   ]
  },
  {
   "cell_type": "code",
   "execution_count": null,
   "metadata": {},
   "outputs": [],
   "source": [
    "def get_product_list(url):\n",
    "    driver = setup_driver()\n",
    "    driver.get(url)\n",
    "    time.sleep(3)\n",
    "    soup = BeautifulSoup(driver.page_source, 'html.parser')\n",
    "    products = []\n",
    "    product_items = []\n",
    "    for num in range(1, 49):\n",
    "        product_items.extend(soup.select(f'li[data-number=\"{num}\"]'))\n",
    "    for product in product_items:\n",
    "        prd_info = product.select_one('div.prd_info')\n",
    "        if prd_info:\n",
    "            product_data = {}\n",
    "            prd_name = prd_info.select_one('p.tx_name')\n",
    "            product_data['name'] = prd_name.text.strip() if prd_name else None\n",
    "            brand = prd_info.select_one('span.tx_brand')\n",
    "            product_data['brand'] = brand.text.strip() if brand else None\n",
    "            price_tag = prd_info.select_one('p.prd_price span.tx_cur span.tx_num')\n",
    "            price = 0\n",
    "            if price_tag:\n",
    "                price_str = price_tag.text.strip().replace(',', '').replace('원', '')\n",
    "                try:\n",
    "                    price = int(price_str)\n",
    "                except:\n",
    "                    price = 0\n",
    "            product_data['price'] = price\n",
    "            img = prd_info.select_one('img')\n",
    "            product_data['thumbnailUrls'] = [img['src']] if img and 'src' in img.attrs else []\n",
    "            link = prd_info.select_one('a.prd_thumb')\n",
    "            detail_url = link['href'] if link and 'href' in link.attrs else None\n",
    "            if detail_url:\n",
    "                detail_url = urljoin('https://www.oliveyoung.co.kr', detail_url)\n",
    "            product_data['detailUrl'] = detail_url\n",
    "            products.append(product_data)\n",
    "    driver.quit()\n",
    "    return products"
   ]
  },
  {
   "cell_type": "markdown",
   "metadata": {},
   "source": [
    "# 5. 상세페이지 정보(이미지, 제조국, 제조업자) 크롤링 함수"
   ]
  },
  {
   "cell_type": "code",
   "execution_count": null,
   "metadata": {},
   "outputs": [],
   "source": [
    "def get_product_detail_info(detail_url):\n",
    "    driver = setup_driver()\n",
    "    driver.get(detail_url)\n",
    "    time.sleep(2)\n",
    "    # 1. 상품상세 이미지: 진입 직후(기본 탭)에서 추출\n",
    "    image_urls = []\n",
    "    soup = BeautifulSoup(driver.page_source, 'html.parser')\n",
    "    detail_div = soup.select_one('div.tabConts.prd_detail_cont.show')\n",
    "    if detail_div:\n",
    "        for img in detail_div.find_all('img'):\n",
    "            src = img.get('src')\n",
    "            data_src = img.get('data-src')\n",
    "            if src and src.startswith('http') and not src.startswith('data:image'):\n",
    "                image_urls.append(src)\n",
    "            elif data_src and data_src.startswith('http') and not data_src.startswith('data:image'):\n",
    "                image_urls.append(data_src)\n",
    "    # 2. '구매정보' 탭 클릭 후 제조국/제조업자 추출\n",
    "    manufacturer = None\n",
    "    country0f0rigin = None\n",
    "    try:\n",
    "        buyinfo_tab = WebDriverWait(driver, 5).until(\n",
    "            EC.element_to_be_clickable((By.ID, \"buyInfo\"))\n",
    "        )\n",
    "        buyinfo_tab.click()\n",
    "        time.sleep(2)\n",
    "    except Exception as e:\n",
    "        print(\"구매정보 탭 클릭 실패:\", e)\n",
    "    soup2 = BeautifulSoup(driver.page_source, 'html.parser')\n",
    "    buyinfo_div = soup2.select_one('div.tabConts.prd_detail_cont.show')\n",
    "    if buyinfo_div:\n",
    "        artc_info = buyinfo_div.select_one('div#artcInfo')\n",
    "        if artc_info:\n",
    "            for dl in artc_info.select('dl.detail_info_list'):\n",
    "                dt = dl.find('dt')\n",
    "                dd = dl.find('dd')\n",
    "                if not dt or not dd:\n",
    "                    continue\n",
    "                dt_text = dt.get_text(strip=True)\n",
    "                dd_text = dd.get_text(strip=True)\n",
    "                if '화장품제조업자' in dt_text:\n",
    "                    m = re.search(r'화장품제조업자\\\\s*[:：]\\\\s*([^/]+)', dd_text)\n",
    "                    if m:\n",
    "                        manufacturer = m.group(1).strip()\n",
    "                    else:\n",
    "                        manufacturer = dd_text.strip()\n",
    "                elif '제조국' in dt_text:\n",
    "                    country0f0rigin = dd_text.strip()\n",
    "    driver.quit()\n",
    "    return {\n",
    "        'detailImageUrls': image_urls,\n",
    "        'manufacturer': manufacturer,\n",
    "        'country0f0rigin': country0f0rigin\n",
    "    }"
   ]
  },
  {
   "cell_type": "markdown",
   "metadata": {},
   "source": [
    "# 6. 상품 목록 크롤링 실행"
   ]
  },
  {
   "cell_type": "code",
   "execution_count": null,
   "metadata": {},
   "outputs": [],
   "source": [
    "products = get_product_list(base_url)\n",
    "print(f'총 {len(products)}개 상품 발견!')"
   ]
  },
  {
   "cell_type": "markdown",
   "metadata": {},
   "source": [
    "# 7. 상세페이지 정보 크롤링 실행"
   ]
  },
  {
   "cell_type": "code",
   "execution_count": null,
   "metadata": {},
   "outputs": [],
   "source": [
    "all_products = []\n",
    "for idx, product in enumerate(products, 1):\n",
    "    print(f'{idx}/{len(products)}: {product[\"name\"]}')\n",
    "    detail_info = get_product_detail_info(product['detailUrl']) if product['detailUrl'] else {'detailImageUrls': [], 'manufacturer': None, 'country0f0rigin': None}\n",
    "    all_products.append({\n",
    "        'productName': product['name'],\n",
    "        'price': product['price'],\n",
    "        'thumbnailUrls': product['thumbnailUrls'],\n",
    "        'detailImageUrls': detail_info['detailImageUrls'],\n",
    "        'manufacturer': detail_info['manufacturer'],\n",
    "        'country0f0rigin': detail_info['country0f0rigin'],\n",
    "        'productUrl': product['detailUrl']\n",
    "    })"
   ]
  },
  {
   "cell_type": "markdown",
   "metadata": {},
   "source": [
    "# 8. 결과를 JSON 파일로 저장"
   ]
  },
  {
   "cell_type": "code",
   "execution_count": null,
   "metadata": {},
   "outputs": [],
   "source": [
    "with open('oliveyoung_products.json', 'w', encoding='utf-8') as f:\n",
    "    json.dump({'items': all_products}, f, ensure_ascii=False, indent=2)\n",
    "print('크롤링 결과가 oliveyoung_products.json 파일로 저장되었습니다.')"
   ]
  }
 ],
 "metadata": {
  "kernelspec": {
   "display_name": "base",
   "language": "python",
   "name": "python3"
  },
  "language_info": {
   "name": "python",
   "version": "3.12.7"
  }
 },
 "nbformat": 4,
 "nbformat_minor": 2
}
